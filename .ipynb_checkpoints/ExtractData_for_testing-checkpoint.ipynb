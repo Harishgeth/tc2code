{
 "cells": [
  {
   "cell_type": "code",
   "execution_count": 1,
   "id": "5325ac2d",
   "metadata": {},
   "outputs": [],
   "source": [
    "import pandas as pd\n",
    "import os"
   ]
  },
  {
   "cell_type": "code",
   "execution_count": null,
   "id": "fb166b4e",
   "metadata": {},
   "outputs": [],
   "source": []
  },
  {
   "cell_type": "code",
   "execution_count": 2,
   "id": "adb69f3c",
   "metadata": {},
   "outputs": [],
   "source": [
    "mypath=os.getcwd()"
   ]
  },
  {
   "cell_type": "code",
   "execution_count": 3,
   "id": "06d3ca69",
   "metadata": {},
   "outputs": [
    {
     "name": "stdout",
     "output_type": "stream",
     "text": [
      "/Users/harish/VT Semester2/DL/Projs/tc2code\n"
     ]
    }
   ],
   "source": [
    "print(mypath)"
   ]
  },
  {
   "cell_type": "code",
   "execution_count": 4,
   "id": "8ca82291",
   "metadata": {},
   "outputs": [],
   "source": [
    "mypath=mypath+\"/ProperDataCreation\""
   ]
  },
  {
   "cell_type": "code",
   "execution_count": 5,
   "id": "ee627225",
   "metadata": {},
   "outputs": [],
   "source": [
    "import glob\n",
    "\n",
    "files = glob.glob(mypath + '/**/*.java', recursive=True)"
   ]
  },
  {
   "cell_type": "code",
   "execution_count": 10,
   "id": "ace0b851",
   "metadata": {},
   "outputs": [
    {
     "name": "stdout",
     "output_type": "stream",
     "text": [
      "/Users/harish/VT Semester2/DL/Projs/tc2code/ProperDataCreation\n"
     ]
    }
   ],
   "source": [
    "print(mypath)"
   ]
  },
  {
   "cell_type": "code",
   "execution_count": 9,
   "id": "a873b657",
   "metadata": {},
   "outputs": [
    {
     "name": "stdout",
     "output_type": "stream",
     "text": [
      "[]\n"
     ]
    }
   ],
   "source": [
    "print(files)"
   ]
  },
  {
   "cell_type": "code",
   "execution_count": 6,
   "id": "1e2b21c1",
   "metadata": {},
   "outputs": [],
   "source": [
    "df = pd.DataFrame (files, columns = ['allfilepaths'])"
   ]
  },
  {
   "cell_type": "code",
   "execution_count": 8,
   "id": "779e38e3",
   "metadata": {},
   "outputs": [
    {
     "data": {
      "text/plain": [
       "Series([], Name: allfilepaths, dtype: object)"
      ]
     },
     "execution_count": 8,
     "metadata": {},
     "output_type": "execute_result"
    }
   ],
   "source": [
    "df['allfilepaths']"
   ]
  },
  {
   "cell_type": "code",
   "execution_count": 7,
   "id": "e8f4c0bb",
   "metadata": {},
   "outputs": [],
   "source": [
    "def extractFileName(a):\n",
    "    x = a.split(\"/\")\n",
    "    return x[len(x)-1]"
   ]
  },
  {
   "cell_type": "code",
   "execution_count": 8,
   "id": "bf7f05b6",
   "metadata": {},
   "outputs": [
    {
     "data": {
      "text/plain": [
       "'OKClosePanelEvoSuiteTest.java'"
      ]
     },
     "execution_count": 8,
     "metadata": {},
     "output_type": "execute_result"
    }
   ],
   "source": [
    "extractFileName(\"/Users/harish/VT Semester2/DL/SF110-20130704-src/69_lhamacaw/evosuite-tests/macaw/util/OKClosePanelEvoSuiteTest.java\")"
   ]
  },
  {
   "cell_type": "code",
   "execution_count": 9,
   "id": "3246db75",
   "metadata": {},
   "outputs": [],
   "source": [
    "df['filenames']=df['allfilepaths'].apply(extractFileName)"
   ]
  },
  {
   "cell_type": "code",
   "execution_count": 10,
   "id": "65c8fa34",
   "metadata": {},
   "outputs": [],
   "source": [
    "def predictTestorCode(x):\n",
    "    if x.endswith('EvoSuiteTest.java'):\n",
    "        return True\n",
    "    else: \n",
    "        return False"
   ]
  },
  {
   "cell_type": "code",
   "execution_count": 11,
   "id": "9705021e",
   "metadata": {},
   "outputs": [],
   "source": [
    "df['isTestFile']=df['filenames'].apply(predictTestorCode)"
   ]
  },
  {
   "cell_type": "code",
   "execution_count": 12,
   "id": "7c9e35bd",
   "metadata": {},
   "outputs": [],
   "source": [
    "def getStoreKey(x):\n",
    "    if x['isTestFile']:\n",
    "        return x['filenames'][:-17]\n",
    "    return x['filenames'][:-5]"
   ]
  },
  {
   "cell_type": "code",
   "execution_count": 13,
   "id": "6e113a31",
   "metadata": {},
   "outputs": [],
   "source": [
    "df['storeKey']=df.apply(getStoreKey,axis=1)"
   ]
  },
  {
   "cell_type": "code",
   "execution_count": 14,
   "id": "3bec8cfd",
   "metadata": {},
   "outputs": [
    {
     "data": {
      "text/html": [
       "<div>\n",
       "<style scoped>\n",
       "    .dataframe tbody tr th:only-of-type {\n",
       "        vertical-align: middle;\n",
       "    }\n",
       "\n",
       "    .dataframe tbody tr th {\n",
       "        vertical-align: top;\n",
       "    }\n",
       "\n",
       "    .dataframe thead th {\n",
       "        text-align: right;\n",
       "    }\n",
       "</style>\n",
       "<table border=\"1\" class=\"dataframe\">\n",
       "  <thead>\n",
       "    <tr style=\"text-align: right;\">\n",
       "      <th></th>\n",
       "      <th>allfilepaths</th>\n",
       "      <th>filenames</th>\n",
       "      <th>isTestFile</th>\n",
       "      <th>storeKey</th>\n",
       "    </tr>\n",
       "  </thead>\n",
       "  <tbody>\n",
       "    <tr>\n",
       "      <th>0</th>\n",
       "      <td>/Users/harish/VT Semester2/DL/SF110-20130704-s...</td>\n",
       "      <td>OKClosePanelEvoSuiteTest.java</td>\n",
       "      <td>True</td>\n",
       "      <td>OKClosePanel</td>\n",
       "    </tr>\n",
       "    <tr>\n",
       "      <th>1</th>\n",
       "      <td>/Users/harish/VT Semester2/DL/SF110-20130704-s...</td>\n",
       "      <td>DisplayableListEvoSuiteTest.java</td>\n",
       "      <td>True</td>\n",
       "      <td>DisplayableList</td>\n",
       "    </tr>\n",
       "    <tr>\n",
       "      <th>2</th>\n",
       "      <td>/Users/harish/VT Semester2/DL/SF110-20130704-s...</td>\n",
       "      <td>SearchUtilityEvoSuiteTest.java</td>\n",
       "      <td>True</td>\n",
       "      <td>SearchUtility</td>\n",
       "    </tr>\n",
       "    <tr>\n",
       "      <th>3</th>\n",
       "      <td>/Users/harish/VT Semester2/DL/SF110-20130704-s...</td>\n",
       "      <td>WindowSizeListenerEvoSuiteTest.java</td>\n",
       "      <td>True</td>\n",
       "      <td>WindowSizeListener</td>\n",
       "    </tr>\n",
       "    <tr>\n",
       "      <th>4</th>\n",
       "      <td>/Users/harish/VT Semester2/DL/SF110-20130704-s...</td>\n",
       "      <td>MultiLineTableCellRendererEvoSuiteTest.java</td>\n",
       "      <td>True</td>\n",
       "      <td>MultiLineTableCellRenderer</td>\n",
       "    </tr>\n",
       "    <tr>\n",
       "      <th>...</th>\n",
       "      <td>...</td>\n",
       "      <td>...</td>\n",
       "      <td>...</td>\n",
       "      <td>...</td>\n",
       "    </tr>\n",
       "    <tr>\n",
       "      <th>47639</th>\n",
       "      <td>/Users/harish/VT Semester2/DL/SF110-20130704-s...</td>\n",
       "      <td>Spell.java</td>\n",
       "      <td>False</td>\n",
       "      <td>Spell</td>\n",
       "    </tr>\n",
       "    <tr>\n",
       "      <th>47640</th>\n",
       "      <td>/Users/harish/VT Semester2/DL/SF110-20130704-s...</td>\n",
       "      <td>Special.java</td>\n",
       "      <td>False</td>\n",
       "      <td>Special</td>\n",
       "    </tr>\n",
       "    <tr>\n",
       "      <th>47641</th>\n",
       "      <td>/Users/harish/VT Semester2/DL/SF110-20130704-s...</td>\n",
       "      <td>Attribute.java</td>\n",
       "      <td>False</td>\n",
       "      <td>Attribute</td>\n",
       "    </tr>\n",
       "    <tr>\n",
       "      <th>47642</th>\n",
       "      <td>/Users/harish/VT Semester2/DL/SF110-20130704-s...</td>\n",
       "      <td>FightValue.java</td>\n",
       "      <td>False</td>\n",
       "      <td>FightValue</td>\n",
       "    </tr>\n",
       "    <tr>\n",
       "      <th>47643</th>\n",
       "      <td>/Users/harish/VT Semester2/DL/SF110-20130704-s...</td>\n",
       "      <td>Weapon.java</td>\n",
       "      <td>False</td>\n",
       "      <td>Weapon</td>\n",
       "    </tr>\n",
       "  </tbody>\n",
       "</table>\n",
       "<p>47644 rows × 4 columns</p>\n",
       "</div>"
      ],
      "text/plain": [
       "                                            allfilepaths  \\\n",
       "0      /Users/harish/VT Semester2/DL/SF110-20130704-s...   \n",
       "1      /Users/harish/VT Semester2/DL/SF110-20130704-s...   \n",
       "2      /Users/harish/VT Semester2/DL/SF110-20130704-s...   \n",
       "3      /Users/harish/VT Semester2/DL/SF110-20130704-s...   \n",
       "4      /Users/harish/VT Semester2/DL/SF110-20130704-s...   \n",
       "...                                                  ...   \n",
       "47639  /Users/harish/VT Semester2/DL/SF110-20130704-s...   \n",
       "47640  /Users/harish/VT Semester2/DL/SF110-20130704-s...   \n",
       "47641  /Users/harish/VT Semester2/DL/SF110-20130704-s...   \n",
       "47642  /Users/harish/VT Semester2/DL/SF110-20130704-s...   \n",
       "47643  /Users/harish/VT Semester2/DL/SF110-20130704-s...   \n",
       "\n",
       "                                         filenames  isTestFile  \\\n",
       "0                    OKClosePanelEvoSuiteTest.java        True   \n",
       "1                 DisplayableListEvoSuiteTest.java        True   \n",
       "2                   SearchUtilityEvoSuiteTest.java        True   \n",
       "3              WindowSizeListenerEvoSuiteTest.java        True   \n",
       "4      MultiLineTableCellRendererEvoSuiteTest.java        True   \n",
       "...                                            ...         ...   \n",
       "47639                                   Spell.java       False   \n",
       "47640                                 Special.java       False   \n",
       "47641                               Attribute.java       False   \n",
       "47642                              FightValue.java       False   \n",
       "47643                                  Weapon.java       False   \n",
       "\n",
       "                         storeKey  \n",
       "0                    OKClosePanel  \n",
       "1                 DisplayableList  \n",
       "2                   SearchUtility  \n",
       "3              WindowSizeListener  \n",
       "4      MultiLineTableCellRenderer  \n",
       "...                           ...  \n",
       "47639                       Spell  \n",
       "47640                     Special  \n",
       "47641                   Attribute  \n",
       "47642                  FightValue  \n",
       "47643                      Weapon  \n",
       "\n",
       "[47644 rows x 4 columns]"
      ]
     },
     "execution_count": 14,
     "metadata": {},
     "output_type": "execute_result"
    }
   ],
   "source": [
    "df"
   ]
  },
  {
   "cell_type": "code",
   "execution_count": 15,
   "id": "c3b66433",
   "metadata": {},
   "outputs": [],
   "source": [
    "df['joinKey']=~df['isTestFile']"
   ]
  },
  {
   "cell_type": "code",
   "execution_count": 17,
   "id": "a5e70114",
   "metadata": {},
   "outputs": [
    {
     "data": {
      "text/html": [
       "<div>\n",
       "<style scoped>\n",
       "    .dataframe tbody tr th:only-of-type {\n",
       "        vertical-align: middle;\n",
       "    }\n",
       "\n",
       "    .dataframe tbody tr th {\n",
       "        vertical-align: top;\n",
       "    }\n",
       "\n",
       "    .dataframe thead th {\n",
       "        text-align: right;\n",
       "    }\n",
       "</style>\n",
       "<table border=\"1\" class=\"dataframe\">\n",
       "  <thead>\n",
       "    <tr style=\"text-align: right;\">\n",
       "      <th></th>\n",
       "      <th>allfilepaths</th>\n",
       "      <th>filenames</th>\n",
       "      <th>isTestFile</th>\n",
       "      <th>storeKey</th>\n",
       "      <th>joinKey</th>\n",
       "    </tr>\n",
       "  </thead>\n",
       "  <tbody>\n",
       "    <tr>\n",
       "      <th>47639</th>\n",
       "      <td>/Users/harish/VT Semester2/DL/SF110-20130704-s...</td>\n",
       "      <td>Spell.java</td>\n",
       "      <td>False</td>\n",
       "      <td>Spell</td>\n",
       "      <td>True</td>\n",
       "    </tr>\n",
       "    <tr>\n",
       "      <th>47640</th>\n",
       "      <td>/Users/harish/VT Semester2/DL/SF110-20130704-s...</td>\n",
       "      <td>Special.java</td>\n",
       "      <td>False</td>\n",
       "      <td>Special</td>\n",
       "      <td>True</td>\n",
       "    </tr>\n",
       "    <tr>\n",
       "      <th>47641</th>\n",
       "      <td>/Users/harish/VT Semester2/DL/SF110-20130704-s...</td>\n",
       "      <td>Attribute.java</td>\n",
       "      <td>False</td>\n",
       "      <td>Attribute</td>\n",
       "      <td>True</td>\n",
       "    </tr>\n",
       "    <tr>\n",
       "      <th>47642</th>\n",
       "      <td>/Users/harish/VT Semester2/DL/SF110-20130704-s...</td>\n",
       "      <td>FightValue.java</td>\n",
       "      <td>False</td>\n",
       "      <td>FightValue</td>\n",
       "      <td>True</td>\n",
       "    </tr>\n",
       "    <tr>\n",
       "      <th>47643</th>\n",
       "      <td>/Users/harish/VT Semester2/DL/SF110-20130704-s...</td>\n",
       "      <td>Weapon.java</td>\n",
       "      <td>False</td>\n",
       "      <td>Weapon</td>\n",
       "      <td>True</td>\n",
       "    </tr>\n",
       "  </tbody>\n",
       "</table>\n",
       "</div>"
      ],
      "text/plain": [
       "                                            allfilepaths        filenames  \\\n",
       "47639  /Users/harish/VT Semester2/DL/SF110-20130704-s...       Spell.java   \n",
       "47640  /Users/harish/VT Semester2/DL/SF110-20130704-s...     Special.java   \n",
       "47641  /Users/harish/VT Semester2/DL/SF110-20130704-s...   Attribute.java   \n",
       "47642  /Users/harish/VT Semester2/DL/SF110-20130704-s...  FightValue.java   \n",
       "47643  /Users/harish/VT Semester2/DL/SF110-20130704-s...      Weapon.java   \n",
       "\n",
       "       isTestFile    storeKey  joinKey  \n",
       "47639       False       Spell     True  \n",
       "47640       False     Special     True  \n",
       "47641       False   Attribute     True  \n",
       "47642       False  FightValue     True  \n",
       "47643       False      Weapon     True  "
      ]
     },
     "execution_count": 17,
     "metadata": {},
     "output_type": "execute_result"
    }
   ],
   "source": [
    "df.tail()"
   ]
  },
  {
   "cell_type": "code",
   "execution_count": 20,
   "id": "d671172e",
   "metadata": {},
   "outputs": [],
   "source": [
    "dfprime=pd.merge(\n",
    "    df, df, left_on=['storeKey','isTestFile'], right_on=['storeKey','joinKey'], how=\"inner\", sort=False\n",
    ")"
   ]
  },
  {
   "cell_type": "code",
   "execution_count": 21,
   "id": "e2be307f",
   "metadata": {},
   "outputs": [
    {
     "data": {
      "text/html": [
       "<div>\n",
       "<style scoped>\n",
       "    .dataframe tbody tr th:only-of-type {\n",
       "        vertical-align: middle;\n",
       "    }\n",
       "\n",
       "    .dataframe tbody tr th {\n",
       "        vertical-align: top;\n",
       "    }\n",
       "\n",
       "    .dataframe thead th {\n",
       "        text-align: right;\n",
       "    }\n",
       "</style>\n",
       "<table border=\"1\" class=\"dataframe\">\n",
       "  <thead>\n",
       "    <tr style=\"text-align: right;\">\n",
       "      <th></th>\n",
       "      <th>allfilepaths_x</th>\n",
       "      <th>filenames_x</th>\n",
       "      <th>isTestFile_x</th>\n",
       "      <th>storeKey</th>\n",
       "      <th>joinKey_x</th>\n",
       "      <th>allfilepaths_y</th>\n",
       "      <th>filenames_y</th>\n",
       "      <th>isTestFile_y</th>\n",
       "      <th>joinKey_y</th>\n",
       "    </tr>\n",
       "  </thead>\n",
       "  <tbody>\n",
       "    <tr>\n",
       "      <th>0</th>\n",
       "      <td>/Users/harish/VT Semester2/DL/SF110-20130704-s...</td>\n",
       "      <td>OKClosePanelEvoSuiteTest.java</td>\n",
       "      <td>True</td>\n",
       "      <td>OKClosePanel</td>\n",
       "      <td>False</td>\n",
       "      <td>/Users/harish/VT Semester2/DL/SF110-20130704-s...</td>\n",
       "      <td>OKClosePanel.java</td>\n",
       "      <td>False</td>\n",
       "      <td>True</td>\n",
       "    </tr>\n",
       "    <tr>\n",
       "      <th>1</th>\n",
       "      <td>/Users/harish/VT Semester2/DL/SF110-20130704-s...</td>\n",
       "      <td>DisplayableListEvoSuiteTest.java</td>\n",
       "      <td>True</td>\n",
       "      <td>DisplayableList</td>\n",
       "      <td>False</td>\n",
       "      <td>/Users/harish/VT Semester2/DL/SF110-20130704-s...</td>\n",
       "      <td>DisplayableList.java</td>\n",
       "      <td>False</td>\n",
       "      <td>True</td>\n",
       "    </tr>\n",
       "    <tr>\n",
       "      <th>2</th>\n",
       "      <td>/Users/harish/VT Semester2/DL/SF110-20130704-s...</td>\n",
       "      <td>SearchUtilityEvoSuiteTest.java</td>\n",
       "      <td>True</td>\n",
       "      <td>SearchUtility</td>\n",
       "      <td>False</td>\n",
       "      <td>/Users/harish/VT Semester2/DL/SF110-20130704-s...</td>\n",
       "      <td>SearchUtility.java</td>\n",
       "      <td>False</td>\n",
       "      <td>True</td>\n",
       "    </tr>\n",
       "    <tr>\n",
       "      <th>3</th>\n",
       "      <td>/Users/harish/VT Semester2/DL/SF110-20130704-s...</td>\n",
       "      <td>WindowSizeListenerEvoSuiteTest.java</td>\n",
       "      <td>True</td>\n",
       "      <td>WindowSizeListener</td>\n",
       "      <td>False</td>\n",
       "      <td>/Users/harish/VT Semester2/DL/SF110-20130704-s...</td>\n",
       "      <td>WindowSizeListener.java</td>\n",
       "      <td>False</td>\n",
       "      <td>True</td>\n",
       "    </tr>\n",
       "    <tr>\n",
       "      <th>4</th>\n",
       "      <td>/Users/harish/VT Semester2/DL/SF110-20130704-s...</td>\n",
       "      <td>MultiLineTableCellRendererEvoSuiteTest.java</td>\n",
       "      <td>True</td>\n",
       "      <td>MultiLineTableCellRenderer</td>\n",
       "      <td>False</td>\n",
       "      <td>/Users/harish/VT Semester2/DL/SF110-20130704-s...</td>\n",
       "      <td>MultiLineTableCellRenderer.java</td>\n",
       "      <td>False</td>\n",
       "      <td>True</td>\n",
       "    </tr>\n",
       "    <tr>\n",
       "      <th>...</th>\n",
       "      <td>...</td>\n",
       "      <td>...</td>\n",
       "      <td>...</td>\n",
       "      <td>...</td>\n",
       "      <td>...</td>\n",
       "      <td>...</td>\n",
       "      <td>...</td>\n",
       "      <td>...</td>\n",
       "      <td>...</td>\n",
       "    </tr>\n",
       "    <tr>\n",
       "      <th>45889</th>\n",
       "      <td>/Users/harish/VT Semester2/DL/SF110-20130704-s...</td>\n",
       "      <td>KeyExc.java</td>\n",
       "      <td>False</td>\n",
       "      <td>KeyExc</td>\n",
       "      <td>True</td>\n",
       "      <td>/Users/harish/VT Semester2/DL/SF110-20130704-s...</td>\n",
       "      <td>KeyExcEvoSuiteTest.java</td>\n",
       "      <td>True</td>\n",
       "      <td>False</td>\n",
       "    </tr>\n",
       "    <tr>\n",
       "      <th>45890</th>\n",
       "      <td>/Users/harish/VT Semester2/DL/SF110-20130704-s...</td>\n",
       "      <td>Hero.java</td>\n",
       "      <td>False</td>\n",
       "      <td>Hero</td>\n",
       "      <td>True</td>\n",
       "      <td>/Users/harish/VT Semester2/DL/SF110-20130704-s...</td>\n",
       "      <td>HeroEvoSuiteTest.java</td>\n",
       "      <td>True</td>\n",
       "      <td>False</td>\n",
       "    </tr>\n",
       "    <tr>\n",
       "      <th>45891</th>\n",
       "      <td>/Users/harish/VT Semester2/DL/SF110-20130704-s...</td>\n",
       "      <td>Talent.java</td>\n",
       "      <td>False</td>\n",
       "      <td>Talent</td>\n",
       "      <td>True</td>\n",
       "      <td>/Users/harish/VT Semester2/DL/SF110-20130704-s...</td>\n",
       "      <td>TalentEvoSuiteTest.java</td>\n",
       "      <td>True</td>\n",
       "      <td>False</td>\n",
       "    </tr>\n",
       "    <tr>\n",
       "      <th>45892</th>\n",
       "      <td>/Users/harish/VT Semester2/DL/SF110-20130704-s...</td>\n",
       "      <td>Special.java</td>\n",
       "      <td>False</td>\n",
       "      <td>Special</td>\n",
       "      <td>True</td>\n",
       "      <td>/Users/harish/VT Semester2/DL/SF110-20130704-s...</td>\n",
       "      <td>SpecialEvoSuiteTest.java</td>\n",
       "      <td>True</td>\n",
       "      <td>False</td>\n",
       "    </tr>\n",
       "    <tr>\n",
       "      <th>45893</th>\n",
       "      <td>/Users/harish/VT Semester2/DL/SF110-20130704-s...</td>\n",
       "      <td>FightValue.java</td>\n",
       "      <td>False</td>\n",
       "      <td>FightValue</td>\n",
       "      <td>True</td>\n",
       "      <td>/Users/harish/VT Semester2/DL/SF110-20130704-s...</td>\n",
       "      <td>FightValueEvoSuiteTest.java</td>\n",
       "      <td>True</td>\n",
       "      <td>False</td>\n",
       "    </tr>\n",
       "  </tbody>\n",
       "</table>\n",
       "<p>45894 rows × 9 columns</p>\n",
       "</div>"
      ],
      "text/plain": [
       "                                          allfilepaths_x  \\\n",
       "0      /Users/harish/VT Semester2/DL/SF110-20130704-s...   \n",
       "1      /Users/harish/VT Semester2/DL/SF110-20130704-s...   \n",
       "2      /Users/harish/VT Semester2/DL/SF110-20130704-s...   \n",
       "3      /Users/harish/VT Semester2/DL/SF110-20130704-s...   \n",
       "4      /Users/harish/VT Semester2/DL/SF110-20130704-s...   \n",
       "...                                                  ...   \n",
       "45889  /Users/harish/VT Semester2/DL/SF110-20130704-s...   \n",
       "45890  /Users/harish/VT Semester2/DL/SF110-20130704-s...   \n",
       "45891  /Users/harish/VT Semester2/DL/SF110-20130704-s...   \n",
       "45892  /Users/harish/VT Semester2/DL/SF110-20130704-s...   \n",
       "45893  /Users/harish/VT Semester2/DL/SF110-20130704-s...   \n",
       "\n",
       "                                       filenames_x  isTestFile_x  \\\n",
       "0                    OKClosePanelEvoSuiteTest.java          True   \n",
       "1                 DisplayableListEvoSuiteTest.java          True   \n",
       "2                   SearchUtilityEvoSuiteTest.java          True   \n",
       "3              WindowSizeListenerEvoSuiteTest.java          True   \n",
       "4      MultiLineTableCellRendererEvoSuiteTest.java          True   \n",
       "...                                            ...           ...   \n",
       "45889                                  KeyExc.java         False   \n",
       "45890                                    Hero.java         False   \n",
       "45891                                  Talent.java         False   \n",
       "45892                                 Special.java         False   \n",
       "45893                              FightValue.java         False   \n",
       "\n",
       "                         storeKey  joinKey_x  \\\n",
       "0                    OKClosePanel      False   \n",
       "1                 DisplayableList      False   \n",
       "2                   SearchUtility      False   \n",
       "3              WindowSizeListener      False   \n",
       "4      MultiLineTableCellRenderer      False   \n",
       "...                           ...        ...   \n",
       "45889                      KeyExc       True   \n",
       "45890                        Hero       True   \n",
       "45891                      Talent       True   \n",
       "45892                     Special       True   \n",
       "45893                  FightValue       True   \n",
       "\n",
       "                                          allfilepaths_y  \\\n",
       "0      /Users/harish/VT Semester2/DL/SF110-20130704-s...   \n",
       "1      /Users/harish/VT Semester2/DL/SF110-20130704-s...   \n",
       "2      /Users/harish/VT Semester2/DL/SF110-20130704-s...   \n",
       "3      /Users/harish/VT Semester2/DL/SF110-20130704-s...   \n",
       "4      /Users/harish/VT Semester2/DL/SF110-20130704-s...   \n",
       "...                                                  ...   \n",
       "45889  /Users/harish/VT Semester2/DL/SF110-20130704-s...   \n",
       "45890  /Users/harish/VT Semester2/DL/SF110-20130704-s...   \n",
       "45891  /Users/harish/VT Semester2/DL/SF110-20130704-s...   \n",
       "45892  /Users/harish/VT Semester2/DL/SF110-20130704-s...   \n",
       "45893  /Users/harish/VT Semester2/DL/SF110-20130704-s...   \n",
       "\n",
       "                           filenames_y  isTestFile_y  joinKey_y  \n",
       "0                    OKClosePanel.java         False       True  \n",
       "1                 DisplayableList.java         False       True  \n",
       "2                   SearchUtility.java         False       True  \n",
       "3              WindowSizeListener.java         False       True  \n",
       "4      MultiLineTableCellRenderer.java         False       True  \n",
       "...                                ...           ...        ...  \n",
       "45889          KeyExcEvoSuiteTest.java          True      False  \n",
       "45890            HeroEvoSuiteTest.java          True      False  \n",
       "45891          TalentEvoSuiteTest.java          True      False  \n",
       "45892         SpecialEvoSuiteTest.java          True      False  \n",
       "45893      FightValueEvoSuiteTest.java          True      False  \n",
       "\n",
       "[45894 rows x 9 columns]"
      ]
     },
     "execution_count": 21,
     "metadata": {},
     "output_type": "execute_result"
    }
   ],
   "source": [
    "dfprime"
   ]
  },
  {
   "cell_type": "code",
   "execution_count": 23,
   "id": "d67bd28f",
   "metadata": {},
   "outputs": [],
   "source": [
    "dfreduced = dfprime.drop(dfprime[dfprime.joinKey_x].index)"
   ]
  },
  {
   "cell_type": "code",
   "execution_count": 29,
   "id": "8c896987",
   "metadata": {},
   "outputs": [
    {
     "data": {
      "text/plain": [
       "'/Users/harish/VT Semester2/DL/SF110-20130704-src/69_lhamacaw/evosuite-tests/macaw/util/OKClosePanelEvoSuiteTest.java'"
      ]
     },
     "execution_count": 29,
     "metadata": {},
     "output_type": "execute_result"
    }
   ],
   "source": [
    "dfreduced['allfilepaths_x'][0]\n"
   ]
  },
  {
   "cell_type": "code",
   "execution_count": 30,
   "id": "c6bd9f97",
   "metadata": {},
   "outputs": [
    {
     "data": {
      "text/plain": [
       "'/Users/harish/VT Semester2/DL/SF110-20130704-src/69_lhamacaw/src/main/java/macaw/util/OKClosePanel.java'"
      ]
     },
     "execution_count": 30,
     "metadata": {},
     "output_type": "execute_result"
    }
   ],
   "source": [
    "dfreduced['allfilepaths_y'][0]"
   ]
  },
  {
   "cell_type": "code",
   "execution_count": 32,
   "id": "3809c2dd",
   "metadata": {},
   "outputs": [],
   "source": [
    "filepaths=dfreduced[['allfilepaths_x','allfilepaths_y']]"
   ]
  },
  {
   "cell_type": "code",
   "execution_count": 35,
   "id": "38d82c03",
   "metadata": {},
   "outputs": [],
   "source": [
    "filepaths=filepaths.rename({'allfilepaths_x':'tesfilepath','allfilepaths_y':'sourcefilepath'}, axis='columns')"
   ]
  },
  {
   "cell_type": "code",
   "execution_count": 37,
   "id": "c7fb3238",
   "metadata": {},
   "outputs": [],
   "source": [
    "filepaths.to_csv('preproc.csv')"
   ]
  },
  {
   "cell_type": "code",
   "execution_count": 80,
   "id": "f06645a3",
   "metadata": {},
   "outputs": [],
   "source": [
    "def getFileContentsAsStr(a):\n",
    "    with open(a,'r', encoding = \"ISO-8859-1\") as file:\n",
    "        acode = file.read()\n",
    "    return acode.encode('utf-8')"
   ]
  },
  {
   "cell_type": "code",
   "execution_count": 81,
   "id": "82986c5d",
   "metadata": {},
   "outputs": [],
   "source": [
    "Codedata=filepaths.rename({'tesfilepath':u'testCode','sourcefilepath':'sourceCode'}, axis='columns')"
   ]
  },
  {
   "cell_type": "code",
   "execution_count": 82,
   "id": "4496bcf6",
   "metadata": {},
   "outputs": [],
   "source": [
    "Codedata['testCode']=Codedata['testCode'].apply(getFileContentsAsStr)"
   ]
  },
  {
   "cell_type": "code",
   "execution_count": 83,
   "id": "4d752299",
   "metadata": {},
   "outputs": [],
   "source": [
    "Codedata['sourceCode']=Codedata['sourceCode'].apply(getFileContentsAsStr)"
   ]
  },
  {
   "cell_type": "code",
   "execution_count": 84,
   "id": "cefd995c",
   "metadata": {},
   "outputs": [
    {
     "data": {
      "text/html": [
       "<div>\n",
       "<style scoped>\n",
       "    .dataframe tbody tr th:only-of-type {\n",
       "        vertical-align: middle;\n",
       "    }\n",
       "\n",
       "    .dataframe tbody tr th {\n",
       "        vertical-align: top;\n",
       "    }\n",
       "\n",
       "    .dataframe thead th {\n",
       "        text-align: right;\n",
       "    }\n",
       "</style>\n",
       "<table border=\"1\" class=\"dataframe\">\n",
       "  <thead>\n",
       "    <tr style=\"text-align: right;\">\n",
       "      <th></th>\n",
       "      <th>testCode</th>\n",
       "      <th>sourceCode</th>\n",
       "    </tr>\n",
       "  </thead>\n",
       "  <tbody>\n",
       "    <tr>\n",
       "      <th>0</th>\n",
       "      <td>b'/*\\n * This file was automatically generated...</td>\n",
       "      <td>b'package macaw.util;\\n\\nimport macaw.system.M...</td>\n",
       "    </tr>\n",
       "    <tr>\n",
       "      <th>1</th>\n",
       "      <td>b'/*\\n * This file was automatically generated...</td>\n",
       "      <td>b'package macaw.util;\\n\\nimport macaw.system.U...</td>\n",
       "    </tr>\n",
       "    <tr>\n",
       "      <th>2</th>\n",
       "      <td>b'/*\\n * This file was automatically generated...</td>\n",
       "      <td>b'package macaw.util;\\n\\nimport java.util.rege...</td>\n",
       "    </tr>\n",
       "    <tr>\n",
       "      <th>3</th>\n",
       "      <td>b'/*\\n * This file was automatically generated...</td>\n",
       "      <td>b'package macaw.util;\\n\\nimport java.awt.event...</td>\n",
       "    </tr>\n",
       "    <tr>\n",
       "      <th>4</th>\n",
       "      <td>b'/*\\n * This file was automatically generated...</td>\n",
       "      <td>b'package macaw.util;\\n\\nimport javax.swing.*;...</td>\n",
       "    </tr>\n",
       "  </tbody>\n",
       "</table>\n",
       "</div>"
      ],
      "text/plain": [
       "                                            testCode  \\\n",
       "0  b'/*\\n * This file was automatically generated...   \n",
       "1  b'/*\\n * This file was automatically generated...   \n",
       "2  b'/*\\n * This file was automatically generated...   \n",
       "3  b'/*\\n * This file was automatically generated...   \n",
       "4  b'/*\\n * This file was automatically generated...   \n",
       "\n",
       "                                          sourceCode  \n",
       "0  b'package macaw.util;\\n\\nimport macaw.system.M...  \n",
       "1  b'package macaw.util;\\n\\nimport macaw.system.U...  \n",
       "2  b'package macaw.util;\\n\\nimport java.util.rege...  \n",
       "3  b'package macaw.util;\\n\\nimport java.awt.event...  \n",
       "4  b'package macaw.util;\\n\\nimport javax.swing.*;...  "
      ]
     },
     "execution_count": 84,
     "metadata": {},
     "output_type": "execute_result"
    }
   ],
   "source": [
    "Codedata.head()"
   ]
  },
  {
   "cell_type": "code",
   "execution_count": 88,
   "id": "c20a1646",
   "metadata": {},
   "outputs": [],
   "source": [
    "Codedata.to_json('./data.jsonl',orient='records', lines=True)"
   ]
  },
  {
   "cell_type": "code",
   "execution_count": null,
   "id": "5a4b6e88",
   "metadata": {},
   "outputs": [],
   "source": [
    "Codedata"
   ]
  },
  {
   "cell_type": "code",
   "execution_count": null,
   "id": "0164d6d9",
   "metadata": {},
   "outputs": [],
   "source": []
  }
 ],
 "metadata": {
  "kernelspec": {
   "display_name": "Python 3",
   "language": "python",
   "name": "python3"
  },
  "language_info": {
   "codemirror_mode": {
    "name": "ipython",
    "version": 3
   },
   "file_extension": ".py",
   "mimetype": "text/x-python",
   "name": "python",
   "nbconvert_exporter": "python",
   "pygments_lexer": "ipython3",
   "version": "3.8.8"
  }
 },
 "nbformat": 4,
 "nbformat_minor": 5
}
